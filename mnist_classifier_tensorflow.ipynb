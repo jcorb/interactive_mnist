{
 "cells": [
  {
   "cell_type": "code",
   "execution_count": 1,
   "metadata": {
    "collapsed": true
   },
   "outputs": [],
   "source": [
    "%matplotlib inline"
   ]
  },
  {
   "cell_type": "code",
   "execution_count": 2,
   "metadata": {
    "collapsed": false
   },
   "outputs": [],
   "source": [
    "import numpy as np\n",
    "import matplotlib.pyplot as plt\n",
    "import tensorflow as tf\n",
    "import pandas as pd\n",
    "from tensorflow.python.framework import ops\n",
    "from sklearn.model_selection import train_test_split\n",
    "import time\n",
    "import pickle"
   ]
  },
  {
   "cell_type": "code",
   "execution_count": 3,
   "metadata": {
    "collapsed": true
   },
   "outputs": [],
   "source": [
    "def convert_to_one_hot(Y, C):\n",
    "    Y = np.eye(C)[Y.reshape(-1)].T\n",
    "    return Y"
   ]
  },
  {
   "cell_type": "markdown",
   "metadata": {},
   "source": [
    "# MNIST classifer using TensorFlow\n",
    "\n",
    "This is just a quick example of using the TensorFlow library to train a classifier on the MNIST digits dataset.  I am using a 3-layer model, with 25 \"neurons\" in the first hidden layer, and 15 in the second.  The model uses a mini-batch approach, with drop-out regularisation.  Final training accuracy is ~98.6%, and ~95.3% accuracy on the hold-out test set.\n",
    "\n",
    "## Dataset\n",
    "\n",
    "Load and display the first 10 examples."
   ]
  },
  {
   "cell_type": "code",
   "execution_count": null,
   "metadata": {
    "collapsed": true
   },
   "outputs": [],
   "source": [
    "data_df = pd.read_csv('../data/train.csv')"
   ]
  },
  {
   "cell_type": "code",
   "execution_count": 23,
   "metadata": {
    "collapsed": false
   },
   "outputs": [
    {
     "data": {
      "image/png": "[encoded data removed]",
      "text/plain": [
       "<matplotlib.figure.Figure at 0x120f35650>"
      ]
     },
     "metadata": {},
     "output_type": "display_data"
    }
   ],
   "source": [
    "fig, axs = plt.subplots(2,5, figsize=(12,6))\n",
    "axs = iter(np.ravel(axs))\n",
    "\n",
    "for i in range(10):\n",
    "    ax = next(axs)\n",
    "    img_data = data_df.values[i,1:].reshape(28,28)\n",
    "    ax.imshow(img_data, cmap='Greys')\n",
    "    "
   ]
  },
  {
   "cell_type": "markdown",
   "metadata": {},
   "source": [
    "Put the data into arrays to be used for the training and testing.  Normalize the image values to be between 0 and 1."
   ]
  },
  {
   "cell_type": "code",
   "execution_count": 5,
   "metadata": {
    "collapsed": false
   },
   "outputs": [
    {
     "name": "stdout",
     "output_type": "stream",
     "text": [
      "(10, 37800)\n",
      "(784, 37800)\n",
      "(10, 3150)\n",
      "(784, 3150)\n"
     ]
    }
   ],
   "source": [
    "Y_full = convert_to_one_hot(data_df.values[:,0], 10)\n",
    "X_full = data_df.values[:,1:].T/255.\n",
    "\n",
    "X_train, X_test_cv, Y_train, Y_test_cv = train_test_split(X_full.T, Y_full.T, test_size=0.1)\n",
    "X_test, X_cv, Y_test, Y_cv = train_test_split(X_test_cv, Y_test_cv, test_size=0.25)\n",
    "\n",
    "X_train = X_train.T\n",
    "Y_train = Y_train.T\n",
    "X_test = X_test.T \n",
    "X_cv = X_cv.T\n",
    "Y_test = Y_test.T\n",
    "Y_cv = Y_cv.T\n",
    "print Y_train.shape\n",
    "print X_train.shape\n",
    "print Y_test.shape\n",
    "print X_test.shape"
   ]
  },
  {
   "cell_type": "code",
   "execution_count": 6,
   "metadata": {
    "collapsed": false
   },
   "outputs": [],
   "source": [
    "X_train = X_train.astype(np.float32, copy=False)\n",
    "Y_train = Y_train.astype(np.float32, copy=False)\n",
    "X_test = X_test.astype(np.float32, copy=False)\n",
    "Y_test = Y_test.astype(np.float32, copy=False)"
   ]
  },
  {
   "cell_type": "markdown",
   "metadata": {},
   "source": [
    "## Helper functions\n",
    "These functions are just helper functions used to help set up the model and compute the forward propagation and the cost."
   ]
  },
  {
   "cell_type": "code",
   "execution_count": 7,
   "metadata": {
    "collapsed": true
   },
   "outputs": [],
   "source": [
    "def random_mini_batches(X, Y, mini_batch_size = 64, seed = 0):\n",
    "    \"\"\"\n",
    "    Creates a list of random minibatches from (X, Y)\n",
    "    \n",
    "    Arguments:\n",
    "    X -- input data, of shape (input size, number of examples)\n",
    "    Y -- true \"label\" vector (containing 0 if cat, 1 if non-cat), of shape (1, number of examples)\n",
    "    mini_batch_size - size of the mini-batches, integer\n",
    "    seed -- this is only for the purpose of grading, so that you're \"random minibatches are the same as ours.\n",
    "    \n",
    "    Returns:\n",
    "    mini_batches -- list of synchronous (mini_batch_X, mini_batch_Y)\n",
    "    \"\"\"\n",
    "    \n",
    "    m = X.shape[1]                  # number of training examples\n",
    "    mini_batches = []\n",
    "    np.random.seed(seed)\n",
    "    \n",
    "    # Step 1: Shuffle (X, Y)\n",
    "    permutation = list(np.random.permutation(m))\n",
    "    shuffled_X = X[:, permutation]\n",
    "    shuffled_Y = Y[:, permutation].reshape((Y.shape[0],m))\n",
    "\n",
    "    # Step 2: Partition (shuffled_X, shuffled_Y). Minus the end case.\n",
    "    num_complete_minibatches = np.floor(m/mini_batch_size) # number of mini batches of size mini_batch_size in your partitionning\n",
    "    for k in range(0, int(num_complete_minibatches)):\n",
    "        mini_batch_X = shuffled_X[:, k * mini_batch_size : k * mini_batch_size + mini_batch_size]\n",
    "        mini_batch_Y = shuffled_Y[:, k * mini_batch_size : k * mini_batch_size + mini_batch_size]\n",
    "        mini_batch = (mini_batch_X, mini_batch_Y)\n",
    "        mini_batches.append(mini_batch)\n",
    "    \n",
    "    # Handling the end case (last mini-batch < mini_batch_size)\n",
    "    if m % mini_batch_size != 0:\n",
    "        mini_batch_X = shuffled_X[:, int(num_complete_minibatches) * mini_batch_size : m]\n",
    "        mini_batch_Y = shuffled_Y[:, int(num_complete_minibatches) * mini_batch_size : m]\n",
    "        mini_batch = (mini_batch_X, mini_batch_Y)\n",
    "        mini_batches.append(mini_batch)\n",
    "    \n",
    "    return mini_batches"
   ]
  },
  {
   "cell_type": "code",
   "execution_count": 8,
   "metadata": {
    "collapsed": true
   },
   "outputs": [],
   "source": [
    "def create_placeholders(n_x, n_y):\n",
    "    \"\"\"\n",
    "    Creates the placeholders for the tensorflow session.\n",
    "    \n",
    "    Arguments:\n",
    "    n_x -- scalar, size of an image vector\n",
    "    n_y -- scalar, number of classes\n",
    "    \n",
    "    Returns:\n",
    "    X -- placeholder for the data input, of shape [n_x, None] and dtype \"float\"\n",
    "    Y -- placeholder for the input labels, of shape [n_y, None] and dtype \"float\"\n",
    "    \n",
    "    Tips:\n",
    "    - Use None because it let's us be flexible on the number of examples.\n",
    "    \"\"\"\n",
    "    X = tf.placeholder(tf.float32, name='X', shape=[n_x, None])\n",
    "    Y = tf.placeholder(tf.float32, name='Y', shape=[n_y, None])\n",
    "    \n",
    "    return X, Y"
   ]
  },
  {
   "cell_type": "code",
   "execution_count": 9,
   "metadata": {
    "collapsed": true
   },
   "outputs": [],
   "source": [
    "def initialize_parameters(n_L, n_x, n_units_l):\n",
    "    \"\"\"\n",
    "    Initializes parameters to build a neural network with tensorflow.\n",
    "    \n",
    "    Arguments:\n",
    "    n_L = number of layers in the neural network (incl output layer)\n",
    "    m = number of training examples\n",
    "    n_units_l = list of len(n_L) where the entries are the corresponding number of units in that layer\n",
    "    \n",
    "    Returns:\n",
    "    parameters -- a dictionary of tensors containing W1, b1, W2, b2, W3, b3\n",
    "    \"\"\"\n",
    "    \n",
    "    if len(n_units_l) != n_L:\n",
    "        raise ValueError, \"number of entries in n_units_l must equal the number of layers, n_L\"\n",
    "    \n",
    "    parameters = {}\n",
    "    \n",
    "    for layer in range(n_L):\n",
    "        n_units = n_units_l[layer]\n",
    "        if layer==0:\n",
    "            n_units_prev = n_x\n",
    "        else:\n",
    "            n_units_prev = n_units_l[layer-1]\n",
    "        \n",
    "        parameters[\"W\"+str(layer+1)] = tf.get_variable(\"W\"+str(layer+1), [n_units, n_units_prev], initializer = tf.contrib.layers.xavier_initializer(), dtype=tf.float32)\n",
    "        parameters[\"b\"+str(layer+1)] = tf.get_variable(\"b\"+str(layer+1), [n_units,1], initializer = tf.zeros_initializer(), dtype=tf.float32)\n",
    "       \n",
    "    return parameters"
   ]
  },
  {
   "cell_type": "code",
   "execution_count": 17,
   "metadata": {
    "collapsed": false
   },
   "outputs": [],
   "source": [
    "def compute_relu(W, A, b):\n",
    "    \"\"\"Compute LINEAR-> RELU activation\"\"\"\n",
    "    Z = tf.add(tf.matmul(W, A), b) \n",
    "    A = tf.nn.relu(Z)\n",
    "    \n",
    "    return A\n",
    "\n",
    "def forward_propagation(X, parameters, n_L, keep_prob):\n",
    "    \"\"\"\n",
    "    Implements the forward propagation for the model: LINEAR -> RELU -> ... -> LINEAR -> SOFTMAX\n",
    "    \n",
    "    Arguments:\n",
    "    X -- input dataset placeholder, of shape (input size, number of examples)\n",
    "    parameters -- python dictionary containing your parameters \"W1\", \"b1\", ... , \"W n_L\", \"b n_L\"\n",
    "                  the shapes are given in initialize_parameters\n",
    "    keep_prob -- value of the probability of which to keep neurons for the droput regularization (0. to 1.)\n",
    "    \n",
    "    Returns:\n",
    "    ZL -- the output of the last LINEAR unit\n",
    "    \"\"\"\n",
    "    \n",
    "    for layer in range(n_L):\n",
    "        \n",
    "        if layer == 0:\n",
    "            A_prev = X\n",
    "        elif layer == n_L-1:\n",
    "            A_prev = A\n",
    "        else:\n",
    "            A_prev = tf.nn.dropout(A, keep_prob)\n",
    "\n",
    "        if layer != n_L-1:\n",
    "            A = compute_relu(parameters['W'+str(layer+1)], A_prev, parameters['b'+str(layer+1)])\n",
    "        else:\n",
    "            ZL = tf.add(tf.matmul(parameters['W'+str(layer+1)], A_prev), parameters['b'+str(layer+1)])\n",
    " \n",
    "    return ZL"
   ]
  },
  {
   "cell_type": "code",
   "execution_count": 11,
   "metadata": {
    "collapsed": true
   },
   "outputs": [],
   "source": [
    "def compute_cost(ZL, Y):\n",
    "    \"\"\"\n",
    "    Computes the cost\n",
    "    \n",
    "    Arguments:\n",
    "    ZL -- output of forward propagation (output of the last LINEAR unit), of shape (n_y, number of examples)\n",
    "    Y -- \"true\" labels vector placeholder, same shape as ZL\n",
    "    \n",
    "    Returns:\n",
    "    cost - Tensor of the cost function\n",
    "    \"\"\"\n",
    "    \n",
    "    # to fit the tensorflow requirement for tf.nn.softmax_cross_entropy_with_logits(...,...)\n",
    "    logits = tf.transpose(ZL)\n",
    "    labels = tf.transpose(Y)\n",
    "    \n",
    "    cost = tf.reduce_mean(tf.nn.softmax_cross_entropy_with_logits(logits = logits, labels = labels))\n",
    "    \n",
    "    return cost"
   ]
  },
  {
   "cell_type": "markdown",
   "metadata": {},
   "source": [
    "## Model\n",
    "The model is specified below.  I am using the Adam optimizer for this example."
   ]
  },
  {
   "cell_type": "code",
   "execution_count": 19,
   "metadata": {
    "collapsed": false
   },
   "outputs": [],
   "source": [
    "def model(X_train, Y_train, X_test, Y_test, learning_rate = 0.0001, n_L = 2, n_units_l = [25,10], \n",
    "          num_epochs = 1500, minibatch_size = 32, print_cost = True):\n",
    "    \"\"\"\n",
    "    Implements an n_L layer tensorflow neural network: LINEAR->RELU->...->LINEAR->SOFTMAX.\n",
    "    \n",
    "    Arguments:\n",
    "    X_train -- training set\n",
    "    Y_train -- training set labels\n",
    "    X_test -- test set\n",
    "    Y_test -- test set labels\n",
    "    learning_rate -- learning rate of the optimization\n",
    "    n_L -- number of layers (incl. output layer)\n",
    "    n_units_l -- list of length n_L, containing the number of units at each layer\n",
    "    num_epochs -- number of epochs of the optimization loop\n",
    "    minibatch_size -- size of a minibatch\n",
    "    print_cost -- True to print the cost every 100 epochs\n",
    "    \n",
    "    \n",
    "    Returns:\n",
    "    parameters -- parameters learnt by the model. They can then be used to predict.\n",
    "    \"\"\"\n",
    "    \n",
    "    ops.reset_default_graph()                         # to be able to rerun the model without overwriting tf variables\n",
    "    tf.set_random_seed(1)                             # to keep consistent results\n",
    "    seed = 3                                          # to keep consistent results\n",
    "    (n_x, m) = X_train.shape                          # (n_x: input size, m : number of examples in the train set)\n",
    "    n_y = Y_train.shape[0]                            # n_y : output size\n",
    "    if n_units_l[-1] != n_y:\n",
    "        n_units_l[-1] = n_y\n",
    "    costs = []                                        # To keep track of the cost\n",
    "    \n",
    "    # Create Placeholders of shape (n_x, n_y)\n",
    "    X, Y = create_placeholders(n_x, n_y)\n",
    "    keep_prob = tf.placeholder(tf.float32)\n",
    "    \n",
    "    # Initialize parameters\n",
    "    parameters = initialize_parameters(n_L, n_x, n_units_l)\n",
    "\n",
    "    # Forward propagation: Build the forward propagation in the tensorflow graph\n",
    "    ZL = forward_propagation(X, parameters, n_L, keep_prob)\n",
    "\n",
    "    # Cost function: Add cost function to tensorflow graph\n",
    "    cost = compute_cost(ZL, Y)\n",
    "    \n",
    "    # Backpropagation: Define the tensorflow optimizer. Using an AdamOptimizer.\n",
    "    optimizer = tf.train.AdamOptimizer(learning_rate = learning_rate).minimize(cost)\n",
    "    \n",
    "    # Initialize all the variables\n",
    "    init = tf.global_variables_initializer()\n",
    "\n",
    "    start_time = time.time()\n",
    "    # Start the session to compute the tensorflow graph\n",
    "    with tf.Session() as sess:\n",
    "        \n",
    "        # Run the initialization\n",
    "        sess.run(init)\n",
    "        \n",
    "        # Do the training loop\n",
    "        for epoch in range(num_epochs):\n",
    "\n",
    "            epoch_cost = 0.                       # Defines a cost related to an epoch\n",
    "            num_minibatches = int(m / minibatch_size) # number of minibatches of size minibatch_size in the train set\n",
    "            seed = seed + 1\n",
    "            minibatches = random_mini_batches(X_train, Y_train, minibatch_size, seed)\n",
    "\n",
    "            for minibatch in minibatches:\n",
    "\n",
    "                # Select a minibatch\n",
    "                (minibatch_X, minibatch_Y) = minibatch\n",
    "                \n",
    "                # IMPORTANT: The line that runs the graph on a minibatch.\n",
    "                # Run the session to execute the \"optimizer\" and the \"cost\", the feedict should contain a minibatch for (X,Y).\n",
    "                _ , minibatch_cost = sess.run([optimizer, cost], feed_dict={X: minibatch_X, Y: minibatch_Y, keep_prob:0.9})\n",
    "                \n",
    "                epoch_cost += minibatch_cost / num_minibatches\n",
    "\n",
    "            # Print the cost every epoch\n",
    "            if print_cost == True and epoch % 5 == 0:\n",
    "                print (\"Cost after epoch %i: %f\" % (epoch, epoch_cost), 'elpased time: %f' %(time.time() - start_time))\n",
    "            if print_cost == True and epoch % 5 == 0:\n",
    "                costs.append(epoch_cost)\n",
    "                \n",
    "        # plot the cost\n",
    "        plt.plot(np.squeeze(costs))\n",
    "        plt.ylabel('cost')\n",
    "        plt.xlabel('iterations (per tens)')\n",
    "        plt.title(\"Learning rate =\" + str(learning_rate))\n",
    "        plt.show()\n",
    "\n",
    "        # lets save the parameters in a variable\n",
    "        parameters = sess.run(parameters)\n",
    "        print (\"Parameters have been trained!\")\n",
    "\n",
    "        # Calculate the correct predictions\n",
    "        correct_prediction = tf.equal(tf.argmax(ZL), tf.argmax(Y))\n",
    "\n",
    "        # Calculate accuracy on the test set\n",
    "        accuracy = tf.reduce_mean(tf.cast(correct_prediction, \"float\"))\n",
    "\n",
    "        print (\"Train Accuracy:\", accuracy.eval({X: X_train, Y: Y_train, keep_prob:1.0}))\n",
    "        print (\"Test Accuracy:\", accuracy.eval({X: X_test, Y: Y_test, keep_prob:1.0}))\n",
    "        \n",
    "        return parameters"
   ]
  },
  {
   "cell_type": "markdown",
   "metadata": {},
   "source": [
    "Run the model for 150 epochs, and output cost function after every 5th epoch.  Cost function vs epoch is plotted below."
   ]
  },
  {
   "cell_type": "code",
   "execution_count": 20,
   "metadata": {
    "collapsed": false,
    "scrolled": false
   },
   "outputs": [
    {
     "name": "stdout",
     "output_type": "stream",
     "text": [
      "('Cost after epoch 0: 1.402347', 'elpased time: 2.721073')\n",
      "('Cost after epoch 5: 0.371490', 'elpased time: 15.859566')\n",
      "('Cost after epoch 10: 0.292060', 'elpased time: 29.041337')\n",
      "('Cost after epoch 15: 0.248021', 'elpased time: 42.179015')\n",
      "('Cost after epoch 20: 0.228892', 'elpased time: 55.310918')\n",
      "('Cost after epoch 25: 0.206232', 'elpased time: 68.492206')\n",
      "('Cost after epoch 30: 0.192013', 'elpased time: 81.616169')\n",
      "('Cost after epoch 35: 0.182392', 'elpased time: 95.966399')\n",
      "('Cost after epoch 40: 0.171803', 'elpased time: 110.668569')\n",
      "('Cost after epoch 45: 0.163627', 'elpased time: 123.787232')\n",
      "('Cost after epoch 50: 0.157624', 'elpased time: 137.468402')\n",
      "('Cost after epoch 55: 0.155292', 'elpased time: 151.211953')\n",
      "('Cost after epoch 60: 0.145957', 'elpased time: 164.759363')\n",
      "('Cost after epoch 65: 0.143559', 'elpased time: 177.873036')\n",
      "('Cost after epoch 70: 0.135260', 'elpased time: 190.915718')\n",
      "('Cost after epoch 75: 0.133756', 'elpased time: 204.029376')\n",
      "('Cost after epoch 80: 0.132652', 'elpased time: 217.108260')\n",
      "('Cost after epoch 85: 0.126116', 'elpased time: 230.235657')\n",
      "('Cost after epoch 90: 0.125312', 'elpased time: 243.323413')\n",
      "('Cost after epoch 95: 0.121463', 'elpased time: 256.504327')\n",
      "('Cost after epoch 100: 0.117943', 'elpased time: 269.875311')\n",
      "('Cost after epoch 105: 0.115977', 'elpased time: 283.317003')\n",
      "('Cost after epoch 110: 0.111293', 'elpased time: 296.771048')\n",
      "('Cost after epoch 115: 0.110646', 'elpased time: 310.232129')\n",
      "('Cost after epoch 120: 0.109226', 'elpased time: 323.419286')\n",
      "('Cost after epoch 125: 0.108305', 'elpased time: 336.705892')\n",
      "('Cost after epoch 130: 0.105935', 'elpased time: 350.007047')\n",
      "('Cost after epoch 135: 0.103955', 'elpased time: 363.116429')\n",
      "('Cost after epoch 140: 0.100618', 'elpased time: 376.533168')\n",
      "('Cost after epoch 145: 0.103087', 'elpased time: 390.057160')\n"
     ]
    },
    {
     "data": {
      "image/png": "[encoded data removed]",
      "text/plain": [
       "<matplotlib.figure.Figure at 0x11ff20a90>"
      ]
     },
     "metadata": {},
     "output_type": "display_data"
    },
    {
     "name": "stdout",
     "output_type": "stream",
     "text": [
      "Parameters have been trained!\n",
      "('Train Accuracy:', 0.9861111)\n",
      "('Test Accuracy:', 0.95301586)\n"
     ]
    }
   ],
   "source": [
    "parameters = model(X_train, Y_train, X_test, Y_test, num_epochs = 150, n_L=3, n_units_l = [25, 15, 10])"
   ]
  },
  {
   "cell_type": "markdown",
   "metadata": {},
   "source": [
    "Fairly good accuracy is achieved.  \n",
    "\n",
    "This outputs the parameters, which can then be used to classify new examples."
   ]
  },
  {
   "cell_type": "code",
   "execution_count": null,
   "metadata": {
    "collapsed": true
   },
   "outputs": [],
   "source": [
    "with open('../data/tf_parameters.pkl', 'w') as f:\n",
    "    pickle.dump(parameters, f)"
   ]
  }
 ],
 "metadata": {
  "anaconda-cloud": {},
  "kernelspec": {
   "display_name": "Python [Root]",
   "language": "python",
   "name": "Python [Root]"
  },
  "language_info": {
   "codemirror_mode": {
    "name": "ipython",
    "version": 2
   },
   "file_extension": ".py",
   "mimetype": "text/x-python",
   "name": "python",
   "nbconvert_exporter": "python",
   "pygments_lexer": "ipython2",
   "version": "2.7.12"
  }
 },
 "nbformat": 4,
 "nbformat_minor": 0
}
